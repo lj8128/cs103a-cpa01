{
 "cells": [
  {
   "cell_type": "markdown",
   "metadata": {},
   "source": [
    "# Tobacco Use in the US, 1995-2010"
   ]
  },
  {
   "cell_type": "markdown",
   "metadata": {},
   "source": [
    "### <u>Problem 3(a)</u>"
   ]
  },
  {
   "cell_type": "markdown",
   "metadata": {
    "tags": []
   },
   "source": [
    "#### Description of dataset\n",
    "My dataset contains information on tobacco use in the US by state or territory (hereafter, 'jurisdiction'), during the period 1995-2010. For a given year and jurisdiction, a number is given for each of the following four criteria, representing a percentage of the jurisdiction's total population for that year: (i) smoke everyday; (ii) smoke some days; (iii) former smoker; and (iv) never smoked.\n",
    "#### URL of dataset and download instructions\n",
    "The dataset's URL is [https://data.cdc.gov/Smoking-Tobacco-Use/BRFSS-Prevalence-and-Trends-Data-Tobacco-Use-Four-/8zak-ewtm]. For some reason, the link breaks, but the dataset can easily be found by searching for \"tobacco use\" in the search tool on the upper right-hand corner of the linked page. Once you navigate to the dataset's main page, it can be downloaded by clicking on the Export button on the top right-hand corner of the page, and clicking CSV. I have downloaded it as the file\n",
    "US-Smoking-data_1995-2010.csv and stored it in ./data.\n",
    "#### Two interesting Questions\n",
    "1. How have the percentages for the four types of tobacco use fluctuated for Washington State from 1995-2010?\n",
    "2. How have the percentages of people who smoke every day fluctuated for California, Texas, Florida, and New York (the four most populous states as of 2021)?"
   ]
  },
  {
   "cell_type": "code",
   "execution_count": null,
   "metadata": {},
   "outputs": [],
   "source": [
    "import numpy as np\n",
    "import pandas as pd\n",
    "import matplotlib.pyplot as plt"
   ]
  },
  {
   "cell_type": "markdown",
   "metadata": {},
   "source": [
    "### <u>Problem 3(b)</u>"
   ]
  },
  {
   "cell_type": "markdown",
   "metadata": {},
   "source": [
    "#### Loading the dataset to a pandas dataframe"
   ]
  },
  {
   "cell_type": "code",
   "execution_count": null,
   "metadata": {},
   "outputs": [],
   "source": [
    "df = pd.read_csv('data/US-Smoking-data_1995-2010.csv')\n",
    "df"
   ]
  },
  {
   "cell_type": "markdown",
   "metadata": {},
   "source": [
    "### <u>Problem 3(c)</u>"
   ]
  },
  {
   "cell_type": "markdown",
   "metadata": {},
   "source": [
    "#### Using pd.describe() to get a rough overview of the data"
   ]
  },
  {
   "cell_type": "code",
   "execution_count": null,
   "metadata": {},
   "outputs": [],
   "source": [
    "df.describe()"
   ]
  },
  {
   "cell_type": "markdown",
   "metadata": {},
   "source": [
    "### <u>Problem 3(d)</u>"
   ]
  },
  {
   "cell_type": "markdown",
   "metadata": {},
   "source": [
    "#### (I) Print the array of columns and the index array"
   ]
  },
  {
   "cell_type": "code",
   "execution_count": null,
   "metadata": {},
   "outputs": [],
   "source": [
    "print(df.columns)"
   ]
  },
  {
   "cell_type": "markdown",
   "metadata": {},
   "source": [
    "#### (II) Simple plot of part of the data"
   ]
  },
  {
   "cell_type": "markdown",
   "metadata": {},
   "source": [
    "The plot below answers the first question I asked above, by showing how the percentages for the four types of tobacco use fluctuated for Washington State from 1995-2010."
   ]
  },
  {
   "cell_type": "code",
   "execution_count": null,
   "metadata": {},
   "outputs": [],
   "source": [
    "d1 = df[df['State']=='Washington']\n",
    "d1 = d1.sort_values(by=['Year'])\n",
    "usage_category = ['Smoke everyday', 'Smoke some days', 'Former smoker', 'Never smoked']\n",
    "plt.figure(figsize=(15,10))\n",
    "for category in usage_category:\n",
    "    plt.plot(d1['Year'], d1[category], label = category)\n",
    "plt.legend()\n",
    "plt.grid()\n",
    "plt.ylabel('percentage of population')\n",
    "plt.title('Washington Tobacco Usage, 1995-2010',fontsize=25)"
   ]
  },
  {
   "cell_type": "markdown",
   "metadata": {},
   "source": [
    "#### (III) Create a Pivot Table"
   ]
  },
  {
   "cell_type": "markdown",
   "metadata": {},
   "source": [
    "The pivot table's indices are the values of the original table's Year column, while its columns are the values of the original table's State column. The entries of the pivot table are the values of the Smoke everyday column as they relate to the pivot's table's indices and columns. For example, the entry for the 1996 index and Washington column would be the percentage of people that smoked every day in Washington in 1996. "
   ]
  },
  {
   "cell_type": "code",
   "execution_count": null,
   "metadata": {},
   "outputs": [],
   "source": [
    "df2 = pd.pivot_table(df, values='Smoke everyday', index=['Year'], columns=['State'])\n",
    "df2"
   ]
  },
  {
   "cell_type": "markdown",
   "metadata": {},
   "source": [
    "#### (IV) Plot some data from the pivot table"
   ]
  },
  {
   "cell_type": "markdown",
   "metadata": {},
   "source": [
    "Using the pivot table we just created, we will answer our second question. That is, we will plot the fluctuations of the percentages of people who smoked every day for California, Texas, Florida, and New York from 1995-2010."
   ]
  },
  {
   "cell_type": "code",
   "execution_count": null,
   "metadata": {},
   "outputs": [],
   "source": [
    "df2[['California','Texas','Florida','New York']].plot(figsize=(15,10))\n",
    "plt.grid()\n",
    "plt.ylabel('percentage of people that smoked every day')\n",
    "plt.title('Smoked Every Day, 1995-2010',fontsize=25)"
   ]
  },
  {
   "cell_type": "markdown",
   "metadata": {},
   "source": [
    "#### (V) Use the groupby feature"
   ]
  },
  {
   "cell_type": "markdown",
   "metadata": {},
   "source": [
    "Next, we will use panda's groupby feature to answer the following question:\n",
    "<ul>\n",
    "    <li>How did the national average and median of the never smoked category of tobacco usage fluctuate from 1995-2010?</li>\n",
    "</ul>"
   ]
  },
  {
   "cell_type": "code",
   "execution_count": null,
   "metadata": {},
   "outputs": [],
   "source": [
    "df3 = df.rename(columns={'Never smoked': 'never_smoked'})\n",
    "df3.groupby('Year').never_smoked.agg(['mean', 'median']).plot(figsize=(15,10))\n",
    "plt.ylabel('percentage of people that never smoked')\n",
    "plt.title(\"National Percentages of People that Never Smoked, 1995-2010\",fontsize=25)"
   ]
  },
  {
   "cell_type": "markdown",
   "metadata": {},
   "source": [
    "### <u>Problem 3(e)</u>"
   ]
  },
  {
   "cell_type": "markdown",
   "metadata": {},
   "source": [
    "### Discussion"
   ]
  },
  {
   "cell_type": "markdown",
   "metadata": {},
   "source": [
    "I will comment on each of the three plots generated.\n",
    "<ol>\n",
    "    <li><b>Washington Smoking Habits, 1995-2010:</b> The data shows that, especially when compared to the final plot, that the percentage of people that never smoked in Washington rose from 1995-2010 largely in line with the national average. However, the data also shows that the percentage of people that smoke some days remained steady, and even rose on some years, despite the percentage of people that smoke every day dramatically falling. Perhaps this can be attributed to people who smoked every day trying to quit or at least reduce their tobacco usage.</li>\n",
    "    <li><b>Smoked Every Day, 1995-2010:</b> The data shows that, at least with respect to the four states that were plotted, that the percentage of people that smoked every day in California started from a significantly lower point than the other three states. Regardless, the rate of decline of every-day smokers in California appear to be similar to the other three states.</li>\n",
    "    <li><b>National Percentages of People that Never Smoked, 1995-2010:</b> The median is slightly lower than the average, which suggests that some states have increased the percentage of people that never smoked at a higher rate than other states. Further, there is a dramatic spike in 2003. Perhaps this suggests that a population came of age in 2003 that </li>\n",
    "    \n",
    "</ol>"
   ]
  }
 ],
 "metadata": {
  "kernelspec": {
   "display_name": "Python 3 (ipykernel)",
   "language": "python",
   "name": "python3"
  },
  "language_info": {
   "codemirror_mode": {
    "name": "ipython",
    "version": 3
   },
   "file_extension": ".py",
   "mimetype": "text/x-python",
   "name": "python",
   "nbconvert_exporter": "python",
   "pygments_lexer": "ipython3",
   "version": "3.9.5"
  }
 },
 "nbformat": 4,
 "nbformat_minor": 4
}
